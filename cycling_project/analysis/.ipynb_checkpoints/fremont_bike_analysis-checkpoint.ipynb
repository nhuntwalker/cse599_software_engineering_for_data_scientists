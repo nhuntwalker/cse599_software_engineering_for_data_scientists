{
 "cells": [
  {
   "cell_type": "markdown",
   "metadata": {},
   "source": [
    "# Analysis of Bikes over the Fremont Bridge\n",
    "1. Isolate the 2015 data, creating fields for date, hour, and count\n",
    "2. use python matplotlib to plot the counts by hour\n",
    "3. compute hourly average counts over the year\n",
    "4. determine what is the busiest hour of the day"
   ]
  },
  {
   "cell_type": "code",
   "execution_count": 1,
   "metadata": {
    "collapsed": true
   },
   "outputs": [],
   "source": [
    "import time\n",
    "import os\n",
    "import numpy as np\n",
    "import pandas as pd\n",
    "import matplotlib.pyplot as plt\n",
    "%matplotlib inline\n",
    "import pandasql"
   ]
  },
  {
   "cell_type": "code",
   "execution_count": 2,
   "metadata": {
    "collapsed": true
   },
   "outputs": [],
   "source": [
    "#get the data\n",
    "fremont_data = pd.read_csv(\"../data/4xy5-26gy.csv\")\n",
    "\n",
    "#need to format time column so that seconds are just integers and not decimals\n",
    "fremont_data.date = [time.strptime(the_date[:-4], \"%Y-%m-%dT%H:%M:%S\") for the_date in fremont_data.date]\n",
    "fremont_data[\"year\"] = [the_date.tm_year for the_date in fremont_data.date]\n",
    "fremont_data[\"hour\"] = [the_date.tm_hour for the_date in fremont_data.date]"
   ]
  },
  {
   "cell_type": "code",
   "execution_count": 3,
   "metadata": {
    "collapsed": true
   },
   "outputs": [],
   "source": [
    "yr_2015 = fremont_data[\"year\"] == 2015"
   ]
  },
  {
   "cell_type": "code",
   "execution_count": 4,
   "metadata": {
    "collapsed": false
   },
   "outputs": [
    {
     "data": {
      "image/png": "[encoded data removed]",
      "text/plain": [
       "<matplotlib.figure.Figure at 0x10b430290>"
      ]
     },
     "metadata": {},
     "output_type": "display_data"
    }
   ],
   "source": [
    "plt.hist(np.array(fremont_data[yr_2015][\"fremont_bridge_nb\"]), bins=np.linspace(0, 24, 25))\n",
    "plt.xlim(0, 24)\n",
    "plt.xlabel(\"Hour of the Day\")\n",
    "plt.ylabel(\"Counts\")\n",
    "plt.minorticks_on()\n",
    "plt.show()"
   ]
  },
  {
   "cell_type": "code",
   "execution_count": 5,
   "metadata": {
    "collapsed": false
   },
   "outputs": [],
   "source": [
    "#Compute hourly averages over the year\n",
    "# sql = \"SELECT *\"\n",
    "# sql += \" FROM fremont_data;\"\n",
    "# sql += \" WHERE year = 2015\"\n",
    "# sql += \" GROUP BY hour\"\n",
    "# pandasql.sqldf(sql, locals())\n",
    "## These queries don't work after adding columns that are datetime objects"
   ]
  },
  {
   "cell_type": "code",
   "execution_count": 6,
   "metadata": {
    "collapsed": false
   },
   "outputs": [],
   "source": [
    "averages_dict = {\"hour\":[], \"average_count\":[]}\n",
    "for hour in set(fremont_data.hour):\n",
    "    selection = (yr_2015) & (fremont_data.hour == hour)\n",
    "    averages_dict[\"hour\"].append(hour)\n",
    "    averages_dict[\"average_count\"].append(sum(fremont_data[selection].fremont_bridge_nb) / float(sum(selection)))\n",
    "    \n",
    "mean_df = pd.DataFrame(averages_dict)"
   ]
  },
  {
   "cell_type": "code",
   "execution_count": 7,
   "metadata": {
    "collapsed": false
   },
   "outputs": [
    {
     "data": {
      "image/png": "[encoded data removed]",
      "text/plain": [
       "<matplotlib.figure.Figure at 0x10c0a5bd0>"
      ]
     },
     "metadata": {},
     "output_type": "display_data"
    }
   ],
   "source": [
    "plt.bar(mean_df.hour, mean_df.average_count, align=\"center\")\n",
    "plt.minorticks_on()\n",
    "plt.xlabel(\"Hour\")\n",
    "plt.ylabel(\"Average Count per year\")\n",
    "plt.xlim(-1, 24)\n",
    "plt.show()"
   ]
  },
  {
   "cell_type": "markdown",
   "metadata": {},
   "source": [
    "The peak hour appears to be 8am, followed by 7am, then 5pm"
   ]
  }
 ],
 "metadata": {
  "kernelspec": {
   "display_name": "Python 2",
   "language": "python",
   "name": "python2"
  },
  "language_info": {
   "codemirror_mode": {
    "name": "ipython",
    "version": 2
   },
   "file_extension": ".py",
   "mimetype": "text/x-python",
   "name": "python",
   "nbconvert_exporter": "python",
   "pygments_lexer": "ipython2",
   "version": "2.7.11"
  }
 },
 "nbformat": 4,
 "nbformat_minor": 0
}
